{
 "cells": [
  {
   "cell_type": "markdown",
   "metadata": {},
   "source": [
    "# ASSIGNMENT "
   ]
  },
  {
   "cell_type": "markdown",
   "metadata": {},
   "source": [
    "<h3> 1 : Declare and initialize a variable name total_marks with a value 500</h3>\n"
   ]
  },
  {
   "cell_type": "code",
   "execution_count": 4,
   "metadata": {},
   "outputs": [
    {
     "name": "stdout",
     "output_type": "stream",
     "text": [
      "500\n"
     ]
    }
   ],
   "source": [
    "total_marks=500\n",
    "print(total_marks)"
   ]
  },
  {
   "cell_type": "markdown",
   "metadata": {},
   "source": [
    "<h3> 2 : Declare and initialize 5 variables name maths , english , urdu , physics and chemisrty with different integer values</h3>"
   ]
  },
  {
   "cell_type": "code",
   "execution_count": 69,
   "metadata": {},
   "outputs": [],
   "source": [
    "maths=90;english=80;urdu=85;physics=79;chemistry=84"
   ]
  },
  {
   "cell_type": "markdown",
   "metadata": {},
   "source": [
    "<h3>3 : Calculate the obtained marks And assign the value In variable name obtained_marks</h3>"
   ]
  },
  {
   "cell_type": "code",
   "execution_count": 10,
   "metadata": {},
   "outputs": [
    {
     "name": "stdout",
     "output_type": "stream",
     "text": [
      "418\n"
     ]
    }
   ],
   "source": [
    "obtained_marks=maths+english+urdu+physics+chemistry\n",
    "print(obtained_marks)"
   ]
  },
  {
   "cell_type": "markdown",
   "metadata": {},
   "source": [
    "<h3>4 : Calculate percentage and assign the value in variable name percentage</h3>"
   ]
  },
  {
   "cell_type": "code",
   "execution_count": 15,
   "metadata": {},
   "outputs": [
    {
     "name": "stdout",
     "output_type": "stream",
     "text": [
      "83.6\n"
     ]
    }
   ],
   "source": [
    "percentage= 100*obtained_marks/500\n",
    "print(percentage)"
   ]
  },
  {
   "cell_type": "markdown",
   "metadata": {},
   "source": [
    "<h3>5 : Declare and initialize an empty variable name grade </h3>"
   ]
  },
  {
   "cell_type": "code",
   "execution_count": 26,
   "metadata": {},
   "outputs": [],
   "source": [
    "grade=None\n",
    "type(grade)"
   ]
  },
  {
   "cell_type": "markdown",
   "metadata": {},
   "source": [
    "<h3>6 : assign a vlue to grade by checking the following conditions:: </h3>\n",
    "<h3>if % is greater then and equal to 90 and less then 100 grade is A+ </h3>\n",
    "<h3>if % is greater then and equal to 80 and less then 90 grade is A </h3>\n",
    "<h3>if % is greater then and equal to 70 and less then 80 grade is B </h3>\n",
    "<h3>if % is greater then and equal to 60 and less then 70 grade is C </h3>\n",
    "<h3>if % is less than 60 grade is FAIL </h3>\n"
   ]
  },
  {
   "cell_type": "code",
   "execution_count": 68,
   "metadata": {},
   "outputs": [
    {
     "name": "stdout",
     "output_type": "stream",
     "text": [
      "Grade A\n"
     ]
    }
   ],
   "source": [
    "if(percentage>=90 and percentage<100): \n",
    "    grade=\"Grade A+\"\n",
    "    print(\"Grade A+\")\n",
    "elif(percentage>=80 and percentage<90): \n",
    "    grade=\"Grade A\"\n",
    "    print(\"Grade A\")\n",
    "elif(percentage>=70 and percentage<80): \n",
    "    grade=\"Grade B\"\n",
    "    print(\"Grade B\")\n",
    "elif(percentage>=60 and percentage<70): \n",
    "    grade=\"Grade C\"\n",
    "    print(\"Grade C\")\n",
    "elif(percentage<60): \n",
    "    grade=\"Grade F\"\n",
    "    print(\"Grade Fail\")\n",
    "   "
   ]
  },
  {
   "cell_type": "markdown",
   "metadata": {},
   "source": [
    "<h3>7 : Print grade percentage and obtained marks</h3>"
   ]
  },
  {
   "cell_type": "code",
   "execution_count": 66,
   "metadata": {},
   "outputs": [
    {
     "name": "stdout",
     "output_type": "stream",
     "text": [
      "Grade : Grade A\n",
      "Percentage: 83.6\n",
      "Obtained Marks : 418\n"
     ]
    }
   ],
   "source": [
    "print(\"Grade : \"+grade) \n",
    "print(\"Percentage: \" + str(percentage))\n",
    "print(\"Obtained Marks : \" + str(obtained_marks))"
   ]
  },
  {
   "cell_type": "code",
   "execution_count": null,
   "metadata": {},
   "outputs": [],
   "source": []
  },
  {
   "cell_type": "code",
   "execution_count": null,
   "metadata": {},
   "outputs": [],
   "source": []
  }
 ],
 "metadata": {
  "kernelspec": {
   "display_name": "Python 3",
   "language": "python",
   "name": "python3"
  },
  "language_info": {
   "codemirror_mode": {
    "name": "ipython",
    "version": 3
   },
   "file_extension": ".py",
   "mimetype": "text/x-python",
   "name": "python",
   "nbconvert_exporter": "python",
   "pygments_lexer": "ipython3",
   "version": "3.6.5"
  }
 },
 "nbformat": 4,
 "nbformat_minor": 2
}
